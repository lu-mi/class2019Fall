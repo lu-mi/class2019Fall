{
 "cells": [
  {
   "cell_type": "code",
   "execution_count": 1,
   "metadata": {},
   "outputs": [],
   "source": [
    "# 복습\n",
    "# 정보에 해당하는 것: 문자와 숫자 두가지\n",
    "# 리스트, 리스트 속에 리스트 들어갈 수 있음, 정보를 콤마로 구분해서 넣음\n",
    "# 튜플, 리스트와 똑같으나 보안 측면에서 더 좋음\n",
    "# 딕셔너리, 리스트처럼 단편적인 정보를 시퀀스를 넣는 것이 아니라 두개짜리 페어로 여러개 넣을 수 있음 "
   ]
  },
  {
   "cell_type": "code",
   "execution_count": 2,
   "metadata": {},
   "outputs": [
    {
     "name": "stdout",
     "output_type": "stream",
     "text": [
      "<class 'dict'>\n",
      "apple\n"
     ]
    }
   ],
   "source": [
    "a = {\"a\": \"apple\", \"b\": \"orange\",\"c\": 2014}\n",
    "print(type(a))\n",
    "print(a[\"a\"])       # 딕셔너리에서 넣은 변수에 대한 정보를 가져오려면 a[] 이런식으로 하면 됨!"
   ]
  },
  {
   "cell_type": "code",
   "execution_count": 3,
   "metadata": {},
   "outputs": [
    {
     "data": {
      "text/plain": [
       "2"
      ]
     },
     "execution_count": 3,
     "metadata": {},
     "output_type": "execute_result"
    }
   ],
   "source": [
    "a = 1; b = 1\n",
    "c = a + b\n",
    "c                # print(c) 해도 됨"
   ]
  },
  {
   "cell_type": "code",
   "execution_count": 4,
   "metadata": {},
   "outputs": [
    {
     "data": {
      "text/plain": [
       "4"
      ]
     },
     "execution_count": 4,
     "metadata": {},
     "output_type": "execute_result"
    }
   ],
   "source": [
    "a = [1,2]; b = [3,4]\n",
    "c = a[0] + b[0]                 # 0번째 인덱스 -> 첫번째인것!\n",
    "c"
   ]
  },
  {
   "cell_type": "code",
   "execution_count": 6,
   "metadata": {},
   "outputs": [
    {
     "data": {
      "text/plain": [
       "6"
      ]
     },
     "execution_count": 6,
     "metadata": {},
     "output_type": "execute_result"
    }
   ],
   "source": [
    "c = a[1] + b[1]              # 이런걸 리스트에 access한다고 함. a랑 b중에서 대괄호를 통해 어떤 부분만 가져온다는 의미!\n",
    "c"
   ]
  },
  {
   "cell_type": "code",
   "execution_count": 7,
   "metadata": {},
   "outputs": [
    {
     "name": "stdout",
     "output_type": "stream",
     "text": [
      "<class 'int'>\n"
     ]
    }
   ],
   "source": [
    "a = 1.2; a = int(a)\n",
    "print(type(a))"
   ]
  },
  {
   "cell_type": "code",
   "execution_count": 8,
   "metadata": {},
   "outputs": [
    {
     "data": {
      "text/plain": [
       "1"
      ]
     },
     "execution_count": 8,
     "metadata": {},
     "output_type": "execute_result"
    }
   ],
   "source": [
    "a                  # int로 바꾸고 나면 그냥 1로바뀌어버림!!!"
   ]
  },
  {
   "cell_type": "markdown",
   "metadata": {},
   "source": [
    "### 외우기 ★\n",
    "#### 어떤 variable에 내부정보로 들어갈 때는 반드시 [] <-- 이거 대괄호를 씀!\n",
    "\n",
    "#### 대괄호 안에는 인덱스를 쓴다."
   ]
  },
  {
   "cell_type": "code",
   "execution_count": 11,
   "metadata": {},
   "outputs": [
    {
     "name": "stdout",
     "output_type": "stream",
     "text": [
      "2\n"
     ]
    },
    {
     "data": {
      "text/plain": [
       "str"
      ]
     },
     "execution_count": 11,
     "metadata": {},
     "output_type": "execute_result"
    }
   ],
   "source": [
    "a = '123'; print(a[1]); type(a)"
   ]
  },
  {
   "cell_type": "code",
   "execution_count": 12,
   "metadata": {},
   "outputs": [
    {
     "ename": "TypeError",
     "evalue": "'int' object is not subscriptable",
     "output_type": "error",
     "traceback": [
      "\u001b[1;31m---------------------------------------------------------------------------\u001b[0m",
      "\u001b[1;31mTypeError\u001b[0m                                 Traceback (most recent call last)",
      "\u001b[1;32m<ipython-input-12-5f613826ee87>\u001b[0m in \u001b[0;36m<module>\u001b[1;34m()\u001b[0m\n\u001b[1;32m----> 1\u001b[1;33m \u001b[0ma\u001b[0m \u001b[1;33m=\u001b[0m \u001b[1;36m123\u001b[0m\u001b[1;33m;\u001b[0m \u001b[0mprint\u001b[0m\u001b[1;33m(\u001b[0m\u001b[0ma\u001b[0m\u001b[1;33m[\u001b[0m\u001b[1;36m1\u001b[0m\u001b[1;33m]\u001b[0m\u001b[1;33m)\u001b[0m                 \u001b[1;31m# 여기서 a는 지금 인덱스 1 값에 해당하는 것이 없으므로 에러가 나오는 것!\u001b[0m\u001b[1;33m\u001b[0m\u001b[0m\n\u001b[0m",
      "\u001b[1;31mTypeError\u001b[0m: 'int' object is not subscriptable"
     ]
    }
   ],
   "source": [
    "a = 123; print(a[1])                 # 여기서 a는 지금 인덱스 1 값에 해당하는 것이 없으므로 에러가 나오는 것!"
   ]
  },
  {
   "cell_type": "code",
   "execution_count": 13,
   "metadata": {},
   "outputs": [
    {
     "name": "stdout",
     "output_type": "stream",
     "text": [
      "<class 'list'>\n",
      "['1', '2', '3']\n",
      "3\n"
     ]
    }
   ],
   "source": [
    "a = '123'; a = list(a); print(type(a)); print(a); print(a[2])"
   ]
  },
  {
   "cell_type": "code",
   "execution_count": 14,
   "metadata": {},
   "outputs": [
    {
     "name": "stdout",
     "output_type": "stream",
     "text": [
      "<class 'list'>\n",
      "1\n",
      "2\n",
      "[3, '4']\n"
     ]
    }
   ],
   "source": [
    "a = [1,'2',[3,'4']]print(type(a))\n",
    "print(a[0]);                  # 얘는 숫자로서의 1 출력\n",
    "print(a[1]);                  # 얘는 문자로서의 2 출력 (출력결과에서 구분은 없지만 이게 quote 안에 들어있는 정보였기 때문에 실질적으로는 문자로서의 2인 것!)\n",
    "print(a[2])"
   ]
  },
  {
   "cell_type": "code",
   "execution_count": 15,
   "metadata": {},
   "outputs": [
    {
     "name": "stdout",
     "output_type": "stream",
     "text": [
      "<class 'dict'>\n",
      "apple\n"
     ]
    }
   ],
   "source": [
    "a = {\"a\": \"apple\", \"b\":\"orange\", \"c\":2014}\n",
    "print(type(a))\n",
    "print(a[\"a\"])                       # 딕셔너리는, 실제 사전처럼 표제어와 내용이 있음\n",
    "                                    # 실제로 사전을 찾을 때도 우리가 표제어로 찾듯이,\n",
    "                                    # 인덱스를 표제어로 해야 함! (대괄호 안에 넣을 때 표제어인 \"a\",\"b\",\"c\"를 넣어야 함)"
   ]
  },
  {
   "cell_type": "code",
   "execution_count": 17,
   "metadata": {},
   "outputs": [
    {
     "name": "stdout",
     "output_type": "stream",
     "text": [
      "<class 'dict'>\n",
      "apple\n"
     ]
    }
   ],
   "source": [
    "a = {1: \"apple\", 2:\"orange\", 3:2014}\n",
    "print(type(a))\n",
    "print(a[1])                       # 위의 딕셔너리 내의 표제어는 전부 quote(\"\") 안에 들어있는 string(문자열)이었는데, 여기서는 숫자임.\n",
    "                                  # 표제어는 문자열 말고 숫자도 가능하다!\n",
    "                 "
   ]
  },
  {
   "cell_type": "code",
   "execution_count": 18,
   "metadata": {},
   "outputs": [
    {
     "name": "stdout",
     "output_type": "stream",
     "text": [
      "(1, 2, 3)\n",
      "<class 'tuple'>\n"
     ]
    }
   ],
   "source": [
    "a = [(1,2,3), (3.8,0)]\n",
    "print(a[0])\n",
    "print(type(a[0]))                                # 전체적으로 a는 리스트지만, 내부에 들어있는 데이터는 튜플 구조라는 것을 알 수 있음!"
   ]
  },
  {
   "cell_type": "markdown",
   "metadata": {},
   "source": [
    "\n",
    "### string & list"
   ]
  },
  {
   "cell_type": "code",
   "execution_count": 19,
   "metadata": {},
   "outputs": [],
   "source": [
    "s = 'abcdef'                    # 스트링과 리스트가 정보에 access하는 것이 정말 평행하게 비슷하다는 것을 설명할 것임\n",
    "\n",
    "n = [100, 200, 300]"
   ]
  },
  {
   "cell_type": "code",
   "execution_count": 20,
   "metadata": {},
   "outputs": [
    {
     "name": "stdout",
     "output_type": "stream",
     "text": [
      "a f f a\n"
     ]
    }
   ],
   "source": [
    "print(s[0], s[5], s[-1], s[-6])      # 프린트를 여러개 하고 싶으면 print() 안에 여러개를 콤마로 넣으면 됨!\n",
    "                                     # 0이 첫번째꺼니까 -1이면 뒤로 돌아가게 되는 것! 그래서 -1 이면 젤 마지막 것을 의미함.\n",
    "                                     # 이런게 시험문제 단골로 나옴~_~"
   ]
  },
  {
   "cell_type": "code",
   "execution_count": 22,
   "metadata": {},
   "outputs": [
    {
     "name": "stdout",
     "output_type": "stream",
     "text": [
      "bc bcdef abc abcdef\n"
     ]
    }
   ],
   "source": [
    "print(s[1:3], s[1:], s[:3], s[:])     # 여기 좀 헷갈림!!!!!!!!!! 잘 외우기★★★\n",
    "                                      # s[1:3]이면 첫번째에서 세번째까지가 아니라 ★3번째꺼 직전까지 가져온다★는 의미임"
   ]
  },
  {
   "cell_type": "code",
   "execution_count": 23,
   "metadata": {},
   "outputs": [
    {
     "name": "stdout",
     "output_type": "stream",
     "text": [
      "100 300 300 100\n",
      "[200] [200, 300] [100, 200] [100, 200, 300]\n"
     ]
    }
   ],
   "source": [
    "print(n[0], n[2], n[-1], n[-3])\n",
    "print(n[1:2], n[1:], n[:2], n[:])        # 리스트와 스트링은 이와 같이 ★똑같은 접근방식★이라는 것 반드시 명심★하기!!!!!\n",
    "                                         # 리스트는 슬라이싱하면 이렇게 리스트 형태로 출력한당"
   ]
  },
  {
   "cell_type": "code",
   "execution_count": 25,
   "metadata": {},
   "outputs": [
    {
     "name": "stdout",
     "output_type": "stream",
     "text": [
      "6\n",
      "3\n"
     ]
    }
   ],
   "source": [
    "# 길이 확인\n",
    "\n",
    "print(len(s))\n",
    "print(len(n))"
   ]
  },
  {
   "cell_type": "code",
   "execution_count": 26,
   "metadata": {},
   "outputs": [
    {
     "data": {
      "text/plain": [
       "'bdefefefefefefefefefef'"
      ]
     },
     "execution_count": 26,
     "metadata": {},
     "output_type": "execute_result"
    }
   ],
   "source": [
    "s[1] + s[3] + s[4:] * 10       # 이렇게 정보를 꺼내가지구 접근한 것에 곱셈해서 스트링을 만들 수도 있음~!"
   ]
  },
  {
   "cell_type": "code",
   "execution_count": 27,
   "metadata": {},
   "outputs": [
    {
     "data": {
      "text/plain": [
       "'ABCDEF'"
      ]
     },
     "execution_count": 27,
     "metadata": {},
     "output_type": "execute_result"
    }
   ],
   "source": [
    "s.upper()               # 갑자기 이렇게 된게 아니라 이게 누가 만들어놓은 함수얌"
   ]
  },
  {
   "cell_type": "markdown",
   "metadata": {},
   "source": [
    "#### 요즘 시대에 많이 쓰이는 것은 텍스트관련된 것이다!!!\n",
    "#### 텍스트 관련된 것을 나타내는 키워드는 ★★★NLP (자연언어처리)★★★  텍스트에 관한 엔지니어링!!!\n",
    "#### 이것에 관심 있는 사람은 더 깊게 찾아보자!!!! 나는 관심있으니까 꼭 찾아보구 공부하쟝 뀨★>_<★\n",
    "### 아래에서 하는 것이 텍스트 분석의 가장 기초임!!!!"
   ]
  },
  {
   "cell_type": "code",
   "execution_count": 31,
   "metadata": {},
   "outputs": [
    {
     "data": {
      "text/plain": [
       "' this is a house built this year. \\n'"
      ]
     },
     "execution_count": 31,
     "metadata": {},
     "output_type": "execute_result"
    }
   ],
   "source": [
    "s = ' this is a house built this year. \\n'\n",
    "s"
   ]
  },
  {
   "cell_type": "code",
   "execution_count": 32,
   "metadata": {},
   "outputs": [
    {
     "data": {
      "text/plain": [
       "11"
      ]
     },
     "execution_count": 32,
     "metadata": {},
     "output_type": "execute_result"
    }
   ],
   "source": [
    "result = s.find('house')                     # 11번째에서 house가 시작한다는 것. \n",
    "result                                       # 이와 같이 find는 내가 찾으려는 것이 ★몇 번째에서 시작하는지★ 를 나타내는 것!"
   ]
  },
  {
   "cell_type": "code",
   "execution_count": 33,
   "metadata": {},
   "outputs": [
    {
     "data": {
      "text/plain": [
       "1"
      ]
     },
     "execution_count": 33,
     "metadata": {},
     "output_type": "execute_result"
    }
   ],
   "source": [
    "result = s.find('this')                     # 11번째에서 house가 시작한다는 것. \n",
    "result                                      # this 가 여러개인데, find는 ★ 맨 처음에 나오는 것의 인덱스만★을 출력한다."
   ]
  },
  {
   "cell_type": "code",
   "execution_count": 34,
   "metadata": {},
   "outputs": [
    {
     "data": {
      "text/plain": [
       "23"
      ]
     },
     "execution_count": 34,
     "metadata": {},
     "output_type": "execute_result"
    }
   ],
   "source": [
    "result = s.rindex('this')                  # r = rear? 혹은 가장 오른쪽? 을 의미하는 듯. 암튼 s[23]이 t 이므로 두번째 this의 t를 나타냄\n",
    "result                                     # rindex의 정의 한번 구글링해서 찾아보자!"
   ]
  },
  {
   "cell_type": "code",
   "execution_count": 35,
   "metadata": {},
   "outputs": [
    {
     "data": {
      "text/plain": [
       "'t'"
      ]
     },
     "execution_count": 35,
     "metadata": {},
     "output_type": "execute_result"
    }
   ],
   "source": [
    "s[23]"
   ]
  },
  {
   "cell_type": "code",
   "execution_count": 36,
   "metadata": {},
   "outputs": [
    {
     "data": {
      "text/plain": [
       "'this is a house built this year.'"
      ]
     },
     "execution_count": 36,
     "metadata": {},
     "output_type": "execute_result"
    }
   ],
   "source": [
    "s = s.strip()              # strip()은 이와 같이 순수한 문자만 남겨주는 함수 (맨 앞의 스페이스나 \\n 이런거 없애고)\n",
    "s"
   ]
  },
  {
   "cell_type": "code",
   "execution_count": 37,
   "metadata": {},
   "outputs": [
    {
     "data": {
      "text/plain": [
       "['this', 'is', 'a', 'house', 'built', 'this', 'year.']"
      ]
     },
     "execution_count": 37,
     "metadata": {},
     "output_type": "execute_result"
    }
   ],
   "source": [
    "tokens = s.split(' ')           # s라는 스트링을 ' ' <- 스페이스를 구분자로 해서 잘라라! 라는 의미얌\n",
    "tokens"
   ]
  },
  {
   "cell_type": "code",
   "execution_count": 38,
   "metadata": {},
   "outputs": [
    {
     "data": {
      "text/plain": [
       "'this is a house built this year.'"
      ]
     },
     "execution_count": 38,
     "metadata": {},
     "output_type": "execute_result"
    }
   ],
   "source": [
    "s = ' '.join(tokens)          # 이것도 아주 유용하게 쓰이는 것임! split() 과 join()은 쌍으로 유용하게 잘 쓰임!\n",
    "s                             # 잘려져 있는 것을 다시 결합하고 싶을 때 쓰는 것\n",
    "                              # 위의 split() 과는 달리 ★쓰는 방식이 조금 특이함!★\n",
    "                              # 합치려고 기준을 잡는 것을 먼저 쓰고 join()을 써주는 방식!!!"
   ]
  },
  {
   "cell_type": "code",
   "execution_count": 39,
   "metadata": {},
   "outputs": [
    {
     "data": {
      "text/plain": [
       "'this,is,a,house,built,this,year.'"
      ]
     },
     "execution_count": 39,
     "metadata": {},
     "output_type": "execute_result"
    }
   ],
   "source": [
    "s = ','.join(tokens)\n",
    "s"
   ]
  },
  {
   "cell_type": "code",
   "execution_count": 40,
   "metadata": {},
   "outputs": [
    {
     "data": {
      "text/plain": [
       "'that,is,a,house,built,that,year.'"
      ]
     },
     "execution_count": 40,
     "metadata": {},
     "output_type": "execute_result"
    }
   ],
   "source": [
    "s = s.replace('this', 'that')         # this 를 that 으로 바꾸는 것!!!\n",
    "s"
   ]
  },
  {
   "cell_type": "markdown",
   "metadata": {},
   "source": [
    "목요일 오기 전까지 이걸 복습 수준이 아니라 완벽히 훈련을 많이 해오기!!! \n",
    "\n",
    "복습 * 10배~!~!~!~!~! 이것도 해보고 저것도 해보기!!!!!!!!!\n",
    "\n",
    "목욜이 시험 리뷰 이전에 진도나가는 마지막 시간인데 이 날에 시험에 나올 것들이 왕창 나올거임ㅇㅇㅇㅇㅇ\n",
    "\n",
    "이게 오늘 배운 것들을 모르면 알아들을 수가 없당\n",
    "\n",
    "반대로 말하면 그냥 이틀만 빠짝 하면 된다는 소리긴함 ㅎㅁㅎ 빠팅~!"
   ]
  },
  {
   "cell_type": "code",
   "execution_count": null,
   "metadata": {},
   "outputs": [],
   "source": []
  }
 ],
 "metadata": {
  "kernelspec": {
   "display_name": "Python 3",
   "language": "python",
   "name": "python3"
  },
  "language_info": {
   "codemirror_mode": {
    "name": "ipython",
    "version": 3
   },
   "file_extension": ".py",
   "mimetype": "text/x-python",
   "name": "python",
   "nbconvert_exporter": "python",
   "pygments_lexer": "ipython3",
   "version": "3.7.4"
  }
 },
 "nbformat": 4,
 "nbformat_minor": 2
}
