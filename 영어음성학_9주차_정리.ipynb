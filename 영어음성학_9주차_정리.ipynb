{
 "cells": [
  {
   "cell_type": "markdown",
   "metadata": {},
   "source": [
    "## NumPy basics\n",
    "\n",
    "### 1. Creation"
   ]
  },
  {
   "cell_type": "code",
   "execution_count": 3,
   "metadata": {},
   "outputs": [],
   "source": [
    "import numpy as np\n",
    "import matplotlib.pyplot as plt\n",
    "   # matplotlib 뒤에 .으로 pyplot이 있는거 보니까 matplotlib이 더 큰 개념이고 그 밑에 pyplot이라는 sub package가 있는 것!  (이걸 다르게 쓰는 방법? 같은게 시험문제 나오기 쉬움?)\n",
    "   # 어쨌든 점을 쓰는건 포함관계를 나타낸다는 것\n"
   ]
  },
  {
   "cell_type": "code",
   "execution_count": 4,
   "metadata": {},
   "outputs": [
    {
     "ename": "SyntaxError",
     "evalue": "invalid character in identifier (<ipython-input-4-18f71efda599>, line 1)",
     "output_type": "error",
     "traceback": [
      "\u001b[1;36m  File \u001b[1;32m\"<ipython-input-4-18f71efda599>\"\u001b[1;36m, line \u001b[1;32m1\u001b[0m\n\u001b[1;33m    np.empty([2,3], dtype = ‘int’ )  # dtype: 데이터 타입 (data type)\u001b[0m\n\u001b[1;37m                                ^\u001b[0m\n\u001b[1;31mSyntaxError\u001b[0m\u001b[1;31m:\u001b[0m invalid character in identifier\n"
     ]
    }
   ],
   "source": [
    "np.empty([2,3], dtype = ‘int’ )  # dtype: 데이터 타입 (data type)  \n",
    "# 이렇게 하면 수가 좀 크기는 해도 정수로만 값이 나옴. 데이터타입을 int로 설정했기 때문!\n"
   ]
  },
  {
   "cell_type": "code",
   "execution_count": null,
   "metadata": {},
   "outputs": [],
   "source": [
    "np.empty([2,3], dtype = ‘int’ )  # dtype: 데이터 타입 (data type)  \n",
    "# 이렇게 하면 수가 좀 크기는 해도 정수로만 값이 나옴. 데이터타입을 int로 설정했기 때문!\n",
    "# 사실 empty()가 그다지 중요한 함수는 아님ㅋㅁㅋ\n",
    "np.zeros([2,3])   # 2 by 3 행렬(? 데이터?)를 만드는데 전부 0으로 채워진 것을 만드는 것\n",
    "[0, 0, 0] # 이 상태로 있는 것은 그냥 벡터임\n",
    "([[0,0,0], [0,0,0]])    # 이렇게 해야 2 by 3 로 만드는 것!\n",
    "# 하지만 이 것은 아무짝에도 쓸모없는 리스트임. 이걸 어레이해줘야하는데, 그러려면\n",
    "np.array([[0,0,0], [0,0,0]])   # 위의 리스트를 array로 해주는 것!\n",
    "# 이렇게 한꺼번에 해주는 것이 위쪽의 zeros 함수. 그래서 np.zeros([2,3]) 과 np.array([[0,0,0], [0,0,0]])의 결과값은 같다\n"
   ]
  },
  {
   "cell_type": "code",
   "execution_count": 5,
   "metadata": {},
   "outputs": [
    {
     "ename": "SyntaxError",
     "evalue": "invalid character in identifier (<ipython-input-5-ceb29d87c007>, line 1)",
     "output_type": "error",
     "traceback": [
      "\u001b[1;36m  File \u001b[1;32m\"<ipython-input-5-ceb29d87c007>\"\u001b[1;36m, line \u001b[1;32m1\u001b[0m\n\u001b[1;33m    np.ones([2,3], dtype = ‘int’ )\u001b[0m\n\u001b[1;37m                               ^\u001b[0m\n\u001b[1;31mSyntaxError\u001b[0m\u001b[1;31m:\u001b[0m invalid character in identifier\n"
     ]
    }
   ],
   "source": [
    "np.ones([2,3], dtype = ‘int’ )\n",
    "np.ones([2,3], dtype = ‘float’ )\n",
    "np.ones([2,3], dtype = ‘float64’ ) # 이건 소수점 64자리까지 하는 것. 아주 조금의 오차도 허용하고 싶지 않을 때, 아주 정교하게 하고 싶을 때 이렇게 할 수 있음. 하지만 그만큼 숫자가 많은 것으므로 메모리를 많이 차지할 수 있음\n"
   ]
  },
  {
   "cell_type": "code",
   "execution_count": 6,
   "metadata": {},
   "outputs": [
    {
     "ename": "SyntaxError",
     "evalue": "invalid syntax (<ipython-input-6-7e7ec6ab8ad5>, line 3)",
     "output_type": "error",
     "traceback": [
      "\u001b[1;36m  File \u001b[1;32m\"<ipython-input-6-7e7ec6ab8ad5>\"\u001b[1;36m, line \u001b[1;32m3\u001b[0m\n\u001b[1;33m    >>> array([0,1,2,3,4])\u001b[0m\n\u001b[1;37m     ^\u001b[0m\n\u001b[1;31mSyntaxError\u001b[0m\u001b[1;31m:\u001b[0m invalid syntax\n"
     ]
    }
   ],
   "source": [
    "# 다음 나오는 두가지의 함수가 정말 중요한 것!!\n",
    "np.arange(5)  \n",
    ">>> array([0,1,2,3,4])\n",
    "np.arrange(0,10)\n",
    ">>> array([0,1,2,3,4,5,6,7,8,9])\n",
    "np.arrage(0,10,2)    # increment(증가분)을 2로 설정한 것\n",
    ">>> array([0,2,4,6,8])\n",
    "np.arrage(0,10,2, dtype = ‘float’)\n"
   ]
  },
  {
   "cell_type": "code",
   "execution_count": 7,
   "metadata": {},
   "outputs": [
    {
     "ename": "SyntaxError",
     "evalue": "invalid syntax (<ipython-input-7-62939240e734>, line 2)",
     "output_type": "error",
     "traceback": [
      "\u001b[1;36m  File \u001b[1;32m\"<ipython-input-7-62939240e734>\"\u001b[1;36m, line \u001b[1;32m2\u001b[0m\n\u001b[1;33m    >>>array([0., 2., 4., 6., 8., 10.])    ?\u001b[0m\n\u001b[1;37m     ^\u001b[0m\n\u001b[1;31mSyntaxError\u001b[0m\u001b[1;31m:\u001b[0m invalid syntax\n"
     ]
    }
   ],
   "source": [
    "np.linspace(0,10,6)         # lin은 linear의 준말! Linear은 다 똑같다는 뜻. 사이의 간격? (차이들)이 다 똑같다는 뜻이다\n",
    ">>>array([0., 2., 4., 6., 8., 10.])    ?\n",
    "np.linspace(0,10,7)\n",
    "X = np.array([[1,2],[4,5],[8.9]])   # 차원에 대한 얘기를 해보자면, 이건 대괄호가 두개가 나오는걸 보고 2차원인 것을 알 수 있음. 3개면 3차원!\n",
    "X = np.array([[[1,2],[4,5],[8.9]], [[1,2],[4,5],[8.9]]])   # 이렇게 대괄호를 하나 더 쓰면 3차원이 됨\n",
    "X.ndim\n",
    "X.shape\n",
    ">>>(2,3,2)  뒤의 3,2 가 어떤 matrix 인지를 알려주고, 그게 2개가 있다는 뜻이 앞의 2를 나타냄!\n",
    "X.astype(np.float64)\n",
    "np.zeros_like(X)    # 이런 것도 있지만 뭐 그다…. 지 유용하지는 않음.\n"
   ]
  },
  {
   "cell_type": "code",
   "execution_count": 9,
   "metadata": {},
   "outputs": [
    {
     "name": "stdout",
     "output_type": "stream",
     "text": [
      "[-0.74034176  0.91999191 -1.15071361 -0.30130576  1.29138268 -0.51617322\n",
      "  1.84916972 -0.70603014 -0.6540238  -0.11733719 -0.89896919 -0.82314669\n",
      " -0.62477134 -1.78329865 -1.3028529  -0.69261384  0.12519989 -1.64790808\n",
      " -1.55454037  0.54097162  0.03092336  0.55876413 -1.55598514  1.54526342\n",
      " -1.04385293  0.37972299  0.0246212   0.80684505 -0.18676764 -0.19934489\n",
      "  0.89854769  1.33941029  0.41784847  0.48687039 -1.49834946 -0.89092072\n",
      "  1.20357243  0.32614724  0.24650944  0.68997256 -0.1700659  -0.0912307\n",
      "  0.19942741 -0.87404498  0.9979562   0.27854064  1.08976877  0.78616266\n",
      " -0.77420779 -0.39469724 -0.39306264 -1.41602209 -2.29868023  1.07225871\n",
      " -0.33970962 -0.37404003 -1.60898887 -0.45902371 -0.23673959 -2.12530578\n",
      "  0.41542851  0.24917692 -0.34310194  1.75086012 -0.10959565 -1.24474304\n",
      " -0.03433041 -1.33456803  0.47767803 -0.33110827  0.1059655   1.10264409\n",
      " -0.04611382 -1.5772858   1.1519832   0.79177503  3.07270183  0.64681099\n",
      "  0.89905797  0.81483453 -0.54454244  0.94585081 -2.85246628 -0.45101611\n",
      " -0.42427123  2.36905895  0.30791532  0.14976186  0.24667471  0.60876852\n",
      " -0.51911921  0.02301906 -0.77337455 -0.49646068  0.47748455  0.58863444\n",
      " -0.61406606  0.98769527 -0.24884948 -0.37319805]\n"
     ]
    }
   ],
   "source": [
    "# 그냥 X*0 해버리면 위와 같이 나옴!\n",
    "# 이 아래 내용은 유용한 것!\n",
    "data = np.random.normal(0,1,100)\n",
    "print(data)\n",
    "# np 안에 random이라는 게 있고 그 안에 normal이라는 함수가 있음. ‘.’의 의미는 그런 것이다!\n"
   ]
  },
  {
   "cell_type": "code",
   "execution_count": 10,
   "metadata": {},
   "outputs": [],
   "source": [
    "# 100 은 100개의 데이터를 만들라는 것.\n",
    "# 100개를 만드는데, 데이터를 만드는 것 자체를 랜덤으로 정규분포(normal distribution) 형태(?)로 만들으라는 것!\n"
   ]
  },
  {
   "cell_type": "code",
   "execution_count": 11,
   "metadata": {},
   "outputs": [
    {
     "data": {
      "text/plain": [
       "'\\nbin? 바구니를 몇 개를 할지 다 정하는 것\\n바구니를 10개를 만들어 놓는다. 0을 기준으로 한쪽에는 5개의 마이너스값, 한쪽에는 5개의 플러스값\\n큰 바구니가 아니라서 하나가 쌓이고 그게 점점 위에 쌓이는 것. 이게 히스토그램이라고 생각하면 됨!! 1. Creation 마지막 쪽 코드에서 그래프 나오는 게 히스토그램!\\n이 값들을 다 합하면 몇 개일까? 100개!!\\n'"
      ]
     },
     "execution_count": 11,
     "metadata": {},
     "output_type": "execute_result"
    }
   ],
   "source": [
    "'''\n",
    "bin? 바구니를 몇 개를 할지 다 정하는 것\n",
    "바구니를 10개를 만들어 놓는다. 0을 기준으로 한쪽에는 5개의 마이너스값, 한쪽에는 5개의 플러스값\n",
    "큰 바구니가 아니라서 하나가 쌓이고 그게 점점 위에 쌓이는 것. 이게 히스토그램이라고 생각하면 됨!! 1. Creation 마지막 쪽 코드에서 그래프 나오는 게 히스토그램!\n",
    "이 값들을 다 합하면 몇 개일까? 100개!!\n",
    "'''"
   ]
  },
  {
   "cell_type": "markdown",
   "metadata": {},
   "source": [
    "## 2. Manipulation"
   ]
  },
  {
   "cell_type": "code",
   "execution_count": 12,
   "metadata": {},
   "outputs": [
    {
     "data": {
      "text/plain": [
       "array([[[1., 1., 1., 1.],\n",
       "        [1., 1., 1., 1.],\n",
       "        [1., 1., 1., 1.]],\n",
       "\n",
       "       [[1., 1., 1., 1.],\n",
       "        [1., 1., 1., 1.],\n",
       "        [1., 1., 1., 1.]]])"
      ]
     },
     "execution_count": 12,
     "metadata": {},
     "output_type": "execute_result"
    }
   ],
   "source": [
    "X = np.ones([2,3,4])     # 2 by 3 by 4 에 들어가있는 element의 개수는?  24개!!!!\n",
    "X\n"
   ]
  },
  {
   "cell_type": "code",
   "execution_count": 13,
   "metadata": {},
   "outputs": [
    {
     "data": {
      "text/plain": [
       "array([[[1., 1.],\n",
       "        [1., 1.],\n",
       "        [1., 1.]],\n",
       "\n",
       "       [[1., 1.],\n",
       "        [1., 1.],\n",
       "        [1., 1.]],\n",
       "\n",
       "       [[1., 1.],\n",
       "        [1., 1.],\n",
       "        [1., 1.]],\n",
       "\n",
       "       [[1., 1.],\n",
       "        [1., 1.],\n",
       "        [1., 1.]]])"
      ]
     },
     "execution_count": 13,
     "metadata": {},
     "output_type": "execute_result"
    }
   ],
   "source": [
    "Y = X.reshape(-1,3,2)\n",
    "Y\t\t      # shape을 바꾸는 것! 근데 위의 24개 안에서 바꾸는 것이므로 그게 맞지 않으면 반드시 에러가 난다. 바꿀 수 있는 것만 바꿀 수 있고, 바꿀 수 없는 shape으로만 갈 수는 없다.\n",
    "# 그러니까 여기서는 맨 앞에 4를 적어야하는데, 어떻게 해야할 지 모를 때 (귀찮을 때!?!ㅋㅋㅋ)는 -1을 적으면 맞는 것을 알아서 해줌\n"
   ]
  },
  {
   "cell_type": "code",
   "execution_count": 14,
   "metadata": {},
   "outputs": [
    {
     "ename": "AttributeError",
     "evalue": "'numpy.ndarray' object has no attribute 'reshpae'",
     "output_type": "error",
     "traceback": [
      "\u001b[1;31m---------------------------------------------------------------------------\u001b[0m",
      "\u001b[1;31mAttributeError\u001b[0m                            Traceback (most recent call last)",
      "\u001b[1;32m<ipython-input-14-3e5a227a909a>\u001b[0m in \u001b[0;36m<module>\u001b[1;34m\u001b[0m\n\u001b[1;32m----> 1\u001b[1;33m \u001b[0mnp\u001b[0m\u001b[1;33m.\u001b[0m\u001b[0mallclose\u001b[0m\u001b[1;33m(\u001b[0m\u001b[0mX\u001b[0m\u001b[1;33m.\u001b[0m\u001b[0mreshpae\u001b[0m\u001b[1;33m(\u001b[0m\u001b[1;33m-\u001b[0m\u001b[1;36m1\u001b[0m\u001b[1;33m,\u001b[0m\u001b[1;36m3\u001b[0m\u001b[1;33m,\u001b[0m\u001b[1;36m2\u001b[0m\u001b[1;33m)\u001b[0m\u001b[1;33m,\u001b[0m\u001b[0mY\u001b[0m\u001b[1;33m)\u001b[0m    \u001b[1;31m# Y와 완전히 똑같느냐? 를 물어보는 함수. 그래서 True 값 출력\u001b[0m\u001b[1;33m\u001b[0m\u001b[1;33m\u001b[0m\u001b[0m\n\u001b[0m\u001b[0;32m      2\u001b[0m \u001b[1;31m# 그 아래의 assert함수는 몰라도됨\u001b[0m\u001b[1;33m\u001b[0m\u001b[1;33m\u001b[0m\u001b[1;33m\u001b[0m\u001b[0m\n",
      "\u001b[1;31mAttributeError\u001b[0m: 'numpy.ndarray' object has no attribute 'reshpae'"
     ]
    }
   ],
   "source": [
    "np.allclose(X.reshpae(-1,3,2),Y)    # Y와 완전히 똑같느냐? 를 물어보는 함수. 그래서 True 값 출력\n",
    "# 그 아래의 assert함수는 몰라도됨\n"
   ]
  },
  {
   "cell_type": "markdown",
   "metadata": {},
   "source": [
    "## 3."
   ]
  },
  {
   "cell_type": "code",
   "execution_count": 15,
   "metadata": {},
   "outputs": [
    {
     "ename": "SyntaxError",
     "evalue": "invalid character in identifier (<ipython-input-15-5845a9f52016>, line 3)",
     "output_type": "error",
     "traceback": [
      "\u001b[1;36m  File \u001b[1;32m\"<ipython-input-15-5845a9f52016>\"\u001b[1;36m, line \u001b[1;32m3\u001b[0m\n\u001b[1;33m    np.savez(“test”,a,b)         # 만든 a와 b라는 variable을 다음에 쓰고 싶을 때 쓸 수 있도록 파일로 저장하는것\u001b[0m\n\u001b[1;37m                  ^\u001b[0m\n\u001b[1;31mSyntaxError\u001b[0m\u001b[1;31m:\u001b[0m invalid character in identifier\n"
     ]
    }
   ],
   "source": [
    "a = np.random.randint(0,10,[2,3])\n",
    "b = np.random.random([2,3])       # 말 그대로 2 by 3로 random을 만들어 내라는 것. 위와 아래 둘 다 유용하게 쓸 수 있음!\n",
    "np.savez(“test”,a,b)         # 만든 a와 b라는 variable을 다음에 쓰고 싶을 때 쓸 수 있도록 파일로 저장하는것 \n"
   ]
  },
  {
   "cell_type": "code",
   "execution_count": 16,
   "metadata": {},
   "outputs": [
    {
     "name": "stderr",
     "output_type": "stream",
     "text": [
      "ls: cannot access 'test*': No such file or directory\n",
      "ls: cannot access '#': No such file or directory\n",
      "ls: cannot access ''$'\\354\\235\\264\\352\\261\\264': No such file or directory\n",
      "ls: cannot access ''$'\\355\\214\\214\\354\\235\\274\\354\\235\\264': No such file or directory\n",
      "ls: cannot access ''$'\\354\\236\\230': No such file or directory\n",
      "ls: cannot access ''$'\\353\\247\\214\\353\\223\\244\\354\\226\\264\\354\\241\\214\\353\\212\\224\\354\\247\\200\\353\\245\\274': No such file or directory\n",
      "ls: cannot access ''$'\\355\\231\\225\\354\\235\\270\\355\\225\\230\\353\\212\\224': No such file or directory\n",
      "ls: cannot access ''$'\\352\\262\\203''.': No such file or directory\n",
      "ls: cannot access 'Ls'$'\\352\\260\\200': No such file or directory\n",
      "ls: cannot access ''$'\\354\\225\\210\\353\\250\\271\\354\\235\\204': No such file or directory\n",
      "ls: cannot access ''$'\\354\\210\\230\\353\\217\\204': No such file or directory\n",
      "ls: cannot access ''$'\\354\\236\\210\\354\\235\\214': No such file or directory\n",
      "ls: cannot access '('$'\\354\\226\\264\\354\\250\\214\\353\\223\\240': No such file or directory\n",
      "ls: cannot access ''$'\\355\\214\\214\\354\\235\\274\\355\\203\\220\\354\\203\\211\\352\\270\\260\\355\\225\\264\\354\\204\\234': No such file or directory\n",
      "ls: cannot access ''$'\\353\\223\\244\\354\\226\\264\\352\\260\\200\\353\\263\\264\\353\\251\\264': No such file or directory\n",
      "ls: cannot access 'test.npz'$'\\353\\235\\274\\353\\212\\224': No such file or directory\n",
      "ls: cannot access ''$'\\352\\262\\203\\354\\235\\264': No such file or directory\n",
      "ls: cannot access ''$'\\353\\247\\214\\353\\223\\244\\354\\226\\264\\354\\240\\270': No such file or directory\n",
      "ls: cannot access ''$'\\354\\236\\210\\353\\212\\224': No such file or directory\n",
      "ls: cannot access ''$'\\352\\262\\203\\354\\235\\204': No such file or directory\n",
      "ls: cannot access ''$'\\355\\231\\225\\354\\235\\270\\355\\225\\240': No such file or directory\n",
      "ls: cannot access ''$'\\354\\210\\230': No such file or directory\n",
      "ls: cannot access ''$'\\354\\236\\210\\353\\213\\244': No such file or directory\n"
     ]
    },
    {
     "ename": "NameError",
     "evalue": "name 'a' is not defined",
     "output_type": "error",
     "traceback": [
      "\u001b[1;31m---------------------------------------------------------------------------\u001b[0m",
      "\u001b[1;31mNameError\u001b[0m                                 Traceback (most recent call last)",
      "\u001b[1;32m<ipython-input-16-a6f880c5adc3>\u001b[0m in \u001b[0;36m<module>\u001b[1;34m\u001b[0m\n\u001b[0;32m      1\u001b[0m \u001b[0mget_ipython\u001b[0m\u001b[1;33m(\u001b[0m\u001b[1;33m)\u001b[0m\u001b[1;33m.\u001b[0m\u001b[0msystem\u001b[0m\u001b[1;33m(\u001b[0m\u001b[1;34m'ls -al test*   # 이건 파일이 잘 만들어졌는지를 확인하는 것. Ls가 안먹을 수도 있음 (어쨌든 파일탐색기해서 들어가보면 test.npz라는 것이 만들어져 있는 것을 확인할 수 있다'\u001b[0m\u001b[1;33m)\u001b[0m\u001b[1;33m\u001b[0m\u001b[1;33m\u001b[0m\u001b[0m\n\u001b[1;32m----> 2\u001b[1;33m \u001b[1;32mdel\u001b[0m \u001b[0ma\u001b[0m\u001b[1;33m,\u001b[0m \u001b[0mb\u001b[0m   \u001b[1;31m# del 하면 변수 a, b가 삭제되는 것. (저장했기 때문에 메모리상에 계속 남아있는거라, del을 해줘야 삭제할 수 있음)\u001b[0m\u001b[1;33m\u001b[0m\u001b[1;33m\u001b[0m\u001b[0m\n\u001b[0m",
      "\u001b[1;31mNameError\u001b[0m: name 'a' is not defined"
     ]
    }
   ],
   "source": [
    "!ls -al test*   # 이건 파일이 잘 만들어졌는지를 확인하는 것. Ls가 안먹을 수도 있음 (어쨌든 파일탐색기해서 들어가보면 test.npz라는 것이 만들어져 있는 것을 확인할 수 있다\n",
    "del a, b   # del 하면 변수 a, b가 삭제되는 것. (저장했기 때문에 메모리상에 계속 남아있는거라, del을 해줘야 삭제할 수 있음)\n"
   ]
  },
  {
   "cell_type": "code",
   "execution_count": 17,
   "metadata": {},
   "outputs": [
    {
     "ename": "SyntaxError",
     "evalue": "invalid character in identifier (<ipython-input-17-73cee02b8ac2>, line 1)",
     "output_type": "error",
     "traceback": [
      "\u001b[1;36m  File \u001b[1;32m\"<ipython-input-17-73cee02b8ac2>\"\u001b[1;36m, line \u001b[1;32m1\u001b[0m\n\u001b[1;33m    npzfiles = np.load(“test.npz”)\u001b[0m\n\u001b[1;37m                           ^\u001b[0m\n\u001b[1;31mSyntaxError\u001b[0m\u001b[1;31m:\u001b[0m invalid character in identifier\n"
     ]
    }
   ],
   "source": [
    "npzfiles = np.load(“test.npz”)\n",
    "npzfiles.files[‘arr_0’]\n"
   ]
  },
  {
   "cell_type": "markdown",
   "metadata": {},
   "source": [
    "## 4. Inspecting"
   ]
  },
  {
   "cell_type": "code",
   "execution_count": 18,
   "metadata": {},
   "outputs": [
    {
     "name": "stdout",
     "output_type": "stream",
     "text": [
      "<class 'numpy.ndarray'>\n",
      "5\n"
     ]
    }
   ],
   "source": [
    "arr = np.random.random([5,2,3])\n",
    "print(type(arr))\n",
    "print(len(arr))\n"
   ]
  },
  {
   "cell_type": "markdown",
   "metadata": {},
   "source": [
    "## 5. Arithmetic"
   ]
  },
  {
   "cell_type": "code",
   "execution_count": 19,
   "metadata": {},
   "outputs": [
    {
     "ename": "SyntaxError",
     "evalue": "invalid syntax (<ipython-input-19-9430f8b6aa4a>, line 5)",
     "output_type": "error",
     "traceback": [
      "\u001b[1;36m  File \u001b[1;32m\"<ipython-input-19-9430f8b6aa4a>\"\u001b[1;36m, line \u001b[1;32m5\u001b[0m\n\u001b[1;33m    5-1. ?\u001b[0m\n\u001b[1;37m         ^\u001b[0m\n\u001b[1;31mSyntaxError\u001b[0m\u001b[1;31m:\u001b[0m invalid syntax\n"
     ]
    }
   ],
   "source": [
    "a = np.arange(1,5)\n",
    "b = np.arange(9,5,-1)\n",
    "print(a-b)\n",
    "print(a*b)       # a 와 b 가 전부 numpy array가 되었으니 이제 이것끼리 계산할 수 있음\n",
    "\n",
    "# 그다음 matrix이건 다음 행렬할 때 알려주심!\n"
   ]
  },
  {
   "cell_type": "markdown",
   "metadata": {},
   "source": [
    "### 5-2. Comparison"
   ]
  },
  {
   "cell_type": "markdown",
   "metadata": {},
   "source": [
    "### 5-3."
   ]
  },
  {
   "cell_type": "code",
   "execution_count": 20,
   "metadata": {},
   "outputs": [
    {
     "ename": "NameError",
     "evalue": "name 'a' is not defined",
     "output_type": "error",
     "traceback": [
      "\u001b[1;31m---------------------------------------------------------------------------\u001b[0m",
      "\u001b[1;31mNameError\u001b[0m                                 Traceback (most recent call last)",
      "\u001b[1;32m<ipython-input-20-22361ec7429f>\u001b[0m in \u001b[0;36m<module>\u001b[1;34m\u001b[0m\n\u001b[1;32m----> 1\u001b[1;33m \u001b[0ma\u001b[0m\u001b[1;33m\u001b[0m\u001b[1;33m\u001b[0m\u001b[0m\n\u001b[0m\u001b[0;32m      2\u001b[0m \u001b[0ma\u001b[0m\u001b[1;33m.\u001b[0m\u001b[0msum\u001b[0m\u001b[1;33m(\u001b[0m\u001b[1;33m)\u001b[0m        \u001b[1;31m# 이게 넘파이가 만든 산물이기 때문에 그냥 a. 만으로도 연결할 수 있는 것!\u001b[0m\u001b[1;33m\u001b[0m\u001b[1;33m\u001b[0m\u001b[0m\n\u001b[0;32m      3\u001b[0m \u001b[0ma\u001b[0m\u001b[1;33m.\u001b[0m\u001b[0msum\u001b[0m\u001b[1;33m(\u001b[0m\u001b[0maxis\u001b[0m\u001b[1;33m=\u001b[0m\u001b[1;36m0\u001b[0m\u001b[1;33m)\u001b[0m    \u001b[1;31m# 0번째 차원에서 sum을 한다는 뜻!! 지금 a가 3*3이고 2차원인데, 첫번째 차원에 해당하는 것이 각각의 행, 두번째 차원이 열 .. 이런식임. 실행을 해보면 그게 나온다!\u001b[0m\u001b[1;33m\u001b[0m\u001b[1;33m\u001b[0m\u001b[0m\n",
      "\u001b[1;31mNameError\u001b[0m: name 'a' is not defined"
     ]
    }
   ],
   "source": [
    "a\n",
    "a.sum()        # 이게 넘파이가 만든 산물이기 때문에 그냥 a. 만으로도 연결할 수 있는 것!\n",
    "a.sum(axis=0)    # 0번째 차원에서 sum을 한다는 뜻!! 지금 a가 3*3이고 2차원인데, 첫번째 차원에 해당하는 것이 각각의 행, 두번째 차원이 열 .. 이런식임. 실행을 해보면 그게 나온다! \n"
   ]
  },
  {
   "cell_type": "code",
   "execution_count": 21,
   "metadata": {},
   "outputs": [],
   "source": [
    "# Broadcastiong\n",
    "a = np.arange(1,25).reshape(4,6)   # 동시에 reshape을 한다!!!\n"
   ]
  },
  {
   "cell_type": "code",
   "execution_count": null,
   "metadata": {},
   "outputs": [],
   "source": []
  }
 ],
 "metadata": {
  "kernelspec": {
   "display_name": "Python 3",
   "language": "python",
   "name": "python3"
  },
  "language_info": {
   "codemirror_mode": {
    "name": "ipython",
    "version": 3
   },
   "file_extension": ".py",
   "mimetype": "text/x-python",
   "name": "python",
   "nbconvert_exporter": "python",
   "pygments_lexer": "ipython3",
   "version": "3.7.4"
  }
 },
 "nbformat": 4,
 "nbformat_minor": 2
}
