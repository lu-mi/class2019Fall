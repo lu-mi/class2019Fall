{
 "cells": [
  {
   "cell_type": "code",
   "execution_count": 1,
   "metadata": {},
   "outputs": [],
   "source": [
    "# 이번주부터는 ipynb 파일로 주차별 정리 올려도 됨"
   ]
  },
  {
   "cell_type": "code",
   "execution_count": 2,
   "metadata": {},
   "outputs": [
    {
     "name": "stdout",
     "output_type": "stream",
     "text": [
      "1\n",
      "2\n",
      "3\n",
      "4\n"
     ]
    }
   ],
   "source": [
    "# for 사용법1 _ in 뒤의 ㅇ\n",
    "a = [1, 2, 3, 4]\n",
    "for i in a:                     # in 뒤에있는걸 하나씩 i가 가져와서    (for문을 볼 때는 in 뒤를 먼저 보기!!!)\n",
    "    print(i)                    # a에 있는 것을 하나씩 불러와서 i에 할당하고, 그 다음 것을 하라는 의미"
   ]
  },
  {
   "cell_type": "code",
   "execution_count": 3,
   "metadata": {},
   "outputs": [
    {
     "name": "stdout",
     "output_type": "stream",
     "text": [
      "1\n",
      "2\n",
      "3\n",
      "4\n"
     ]
    }
   ],
   "source": [
    "# for 사용법2 _ range함수로 인덱스를 만들어 주는 것!!\n",
    "a = [1, 2, 3, 4]\n",
    "for i in range(4):    # 4가 4개의 인덱스를 만들어주라는 뜻! range는 리스트를 만들어 준다. 그래서 인덱스를 [0,1,2,3]을 만들어 줌!\n",
    "    print(a[i])        # for loop 안에는 반드시 indent가 들어가야 함"
   ]
  },
  {
   "cell_type": "code",
   "execution_count": 4,
   "metadata": {},
   "outputs": [
    {
     "name": "stdout",
     "output_type": "stream",
     "text": [
      "0\n",
      "1\n",
      "2\n",
      "3\n"
     ]
    }
   ],
   "source": [
    "a = [1, 2, 3, 4]\n",
    "for i in range(4):    # 4가 4개의 인덱스를 만들어주라는 뜻! range는 리스트를 만들어 준다. 그래서 인덱스를 [0,1,2,3]을 만들어 줌!\n",
    "    print(i)           # i를 출력해보면 인덱스가 만들어졌다는 것을 알 수 있음"
   ]
  },
  {
   "cell_type": "code",
   "execution_count": 5,
   "metadata": {},
   "outputs": [
    {
     "name": "stdout",
     "output_type": "stream",
     "text": [
      "1\n",
      "2\n",
      "3\n",
      "4\n"
     ]
    }
   ],
   "source": [
    "a = [1, 2, 3, 4]\n",
    "for i in range(len(a)):    # 주로 그냥 숫자보다는 이렇게 a의 길이를 나타낸다!!\n",
    "    print(a[i])             # 여기서 맨 첫번째 for 루프에는 i에 0이 들어가는 것!"
   ]
  },
  {
   "cell_type": "code",
   "execution_count": 6,
   "metadata": {},
   "outputs": [
    {
     "name": "stdout",
     "output_type": "stream",
     "text": [
      "red\n",
      "green\n",
      "blue\n",
      "purple\n"
     ]
    }
   ],
   "source": [
    "# 문자열을 가진 리스트를 가지고 for loop 돌리기\n",
    "\n",
    "a = ['red', 'green', 'blue', 'purple']\n",
    "for s in a:                   # forloop가 4번 돈 것..!!\n",
    "    print(s)"
   ]
  },
  {
   "cell_type": "code",
   "execution_count": 8,
   "metadata": {},
   "outputs": [
    {
     "name": "stdout",
     "output_type": "stream",
     "text": [
      "red\n",
      "green\n",
      "blue\n",
      "purple\n"
     ]
    }
   ],
   "source": [
    "a = ['red', 'green', 'blue', 'purple']\n",
    "for s in range(len(a)):                  \n",
    "    print(a[s])"
   ]
  },
  {
   "cell_type": "code",
   "execution_count": 10,
   "metadata": {},
   "outputs": [
    {
     "name": "stdout",
     "output_type": "stream",
     "text": [
      "red\n",
      "0\n",
      "green\n",
      "1\n",
      "blue\n",
      "2\n",
      "purple\n",
      "3\n"
     ]
    }
   ],
   "source": [
    "# innumerate 함수 _ output값이 자기자신과 번호가 같이 매겨짐!!\n",
    "#                   여기서는 i는 0부터 시작하는 번호(인덱스값), s는 자기자신을 할당받는 것!\n",
    "\n",
    "# innumerate 부분이 오늘 배우는 내용중에 젤 어렵당 ㅇㅁㅇ,,..,!\n",
    "\n",
    "a = ['red', 'green', 'blue', 'purple']\n",
    "b = [0.2, 0.3, 0.1, 0.4]\n",
    "\n",
    "for i,s in enumerate(a):\n",
    "    print(a[i])\n",
    "    print(i)"
   ]
  },
  {
   "cell_type": "code",
   "execution_count": 12,
   "metadata": {},
   "outputs": [
    {
     "name": "stdout",
     "output_type": "stream",
     "text": [
      "red: 20.0%\n",
      "green: 30.0%\n",
      "blue: 10.0%\n",
      "purple: 40.0%\n"
     ]
    }
   ],
   "source": [
    "a = ['red', 'green', 'blue', 'purple']\n",
    "b = [0.2, 0.3, 0.1, 0.4]\n",
    "\n",
    "for i,s in enumerate(a):                     \n",
    "    print(\"{}: {}%\".format(s,b[i]*100))\n",
    "    \n",
    "# 첫번째 for loop에서 i에 0, s에 red가 들어가있다. (이 코드에서 for문은 총 4번 돌아감)\n",
    "# format() 괄호 안에 들어가있는 순서대로 {} 에 들어감!!"
   ]
  },
  {
   "cell_type": "code",
   "execution_count": 19,
   "metadata": {},
   "outputs": [
    {
     "name": "stdout",
     "output_type": "stream",
     "text": [
      "red: 20.0%\n",
      "green: 30.0%\n",
      "blue: 10.0%\n",
      "purple: 40.0%\n"
     ]
    }
   ],
   "source": [
    "a = ['red', 'green', 'blue', 'purple']\n",
    "b = [0.2, 0.3, 0.1, 0.4]\n",
    "\n",
    "for s, i in zip(a,b):\n",
    "    print(\"{}: {}%\".format(s, i*100))"
   ]
  },
  {
   "cell_type": "code",
   "execution_count": 25,
   "metadata": {},
   "outputs": [
    {
     "name": "stdout",
     "output_type": "stream",
     "text": [
      "yay!\n"
     ]
    }
   ],
   "source": [
    "# 이제 if~!\n",
    "a = 0                  \n",
    "if a == 0:            # == 등호 두개가 같다는 뜻ㄴ\n",
    "    print(\"yay!\")"
   ]
  },
  {
   "cell_type": "code",
   "execution_count": 26,
   "metadata": {},
   "outputs": [],
   "source": [
    "a = 0                  \n",
    "if a != 0:           # != 같지 않다는 뜻\n",
    "    print(\"yay!\")"
   ]
  },
  {
   "cell_type": "code",
   "execution_count": 27,
   "metadata": {},
   "outputs": [
    {
     "name": "stdout",
     "output_type": "stream",
     "text": [
      "yay!\n"
     ]
    }
   ],
   "source": [
    "a = 0                 \n",
    "if a >= 0:            # 반드시 부등호가 먼저 나와야 함\n",
    "    print(\"yay!\")"
   ]
  },
  {
   "cell_type": "code",
   "execution_count": 29,
   "metadata": {},
   "outputs": [
    {
     "name": "stdout",
     "output_type": "stream",
     "text": [
      "no\n"
     ]
    }
   ],
   "source": [
    "a = 0                 \n",
    "if a != 0:            \n",
    "    print(\"yay!\")\n",
    "else:\n",
    "    print('no')"
   ]
  },
  {
   "cell_type": "code",
   "execution_count": 31,
   "metadata": {},
   "outputs": [
    {
     "name": "stdout",
     "output_type": "stream",
     "text": [
      "3\n",
      "4\n",
      "6\n",
      "8\n"
     ]
    }
   ],
   "source": [
    "## nested된 for구문!! for 문 안에 for 문이 계속 들어가는 개념\n",
    "\n",
    "for i in range(1,3):                # 가장 큰 for문은 총 2번 도는 것   (1번째에서 3번째꺼 직전까지)\n",
    "    for j in range(3,5):            # 아래의 이 for문은 또 2번 돈다.\n",
    "        print(i*j)                  # 그래서 얘는 총 4번 돈다!"
   ]
  },
  {
   "cell_type": "code",
   "execution_count": 33,
   "metadata": {},
   "outputs": [
    {
     "name": "stdout",
     "output_type": "stream",
     "text": [
      "1\n",
      "3\n",
      "4\n",
      "2\n",
      "6\n",
      "8\n"
     ]
    }
   ],
   "source": [
    "for i in range(1,3):\n",
    "    print(i)\n",
    "    for j in range(3,5):           \n",
    "        print(i*j) "
   ]
  },
  {
   "cell_type": "code",
   "execution_count": 36,
   "metadata": {},
   "outputs": [],
   "source": [
    "for i in range(1,3):\n",
    "    if j >=4:\n",
    "        for j in range(3,5):\n",
    "            print(i*j)"
   ]
  },
  {
   "cell_type": "code",
   "execution_count": 38,
   "metadata": {},
   "outputs": [
    {
     "ename": "SyntaxError",
     "evalue": "invalid syntax (<ipython-input-38-202e4f975e44>, line 3)",
     "output_type": "error",
     "traceback": [
      "\u001b[1;36m  File \u001b[1;32m\"<ipython-input-38-202e4f975e44>\"\u001b[1;36m, line \u001b[1;32m3\u001b[0m\n\u001b[1;33m    j in range(3,5):\u001b[0m\n\u001b[1;37m                    ^\u001b[0m\n\u001b[1;31mSyntaxError\u001b[0m\u001b[1;31m:\u001b[0m invalid syntax\n"
     ]
    }
   ],
   "source": [
    "for i in range(1,3):          \n",
    "    if i >= 3:\n",
    "        j in range(3,5):\n",
    "            print(i*j)"
   ]
  },
  {
   "cell_type": "code",
   "execution_count": null,
   "metadata": {},
   "outputs": [],
   "source": [
    "# syntax 밑의 두가지는 중간고사 끝나고~_~!\n",
    "# 사이언스 타임즈 남호성  이렇게 검색하면 교수님 기사 나옴,,,,ㅎㅎ,,!! "
   ]
  }
 ],
 "metadata": {
  "kernelspec": {
   "display_name": "Python 3",
   "language": "python",
   "name": "python3"
  },
  "language_info": {
   "codemirror_mode": {
    "name": "ipython",
    "version": 3
   },
   "file_extension": ".py",
   "mimetype": "text/x-python",
   "name": "python",
   "nbconvert_exporter": "python",
   "pygments_lexer": "ipython3",
   "version": "3.7.4"
  }
 },
 "nbformat": 4,
 "nbformat_minor": 2
}
